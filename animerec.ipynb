{
 "cells": [
  {
   "cell_type": "markdown",
   "metadata": {},
   "source": [
    "# ANIME RECOMMENDER SYSTEM"
   ]
  },
  {
   "cell_type": "markdown",
   "metadata": {},
   "source": [
    "## Context"
   ]
  },
  {
   "cell_type": "markdown",
   "metadata": {},
   "source": [
    "This data set which is taken from kaggle contains information on user preference data from 73,516 users on 12,294 anime. Each user is able to add anime to their completed list and give it a rating and this data set is a compilation of those ratings. The anime data and user ratings is provided by myanimelist.net API."
   ]
  },
  {
   "cell_type": "markdown",
   "metadata": {},
   "source": [
    "## Content"
   ]
  },
  {
   "cell_type": "markdown",
   "metadata": {},
   "source": [
    "### Anime.csv\n",
    "\n",
    "anime_id - myanimelist.net's unique id identifying an anime.\n",
    "\n",
    "name - full name of anime.\n",
    "\n",
    "genre - comma separated list of genres for this anime.\n",
    "\n",
    "type - movie, TV, OVA, etc.\n",
    "\n",
    "episodes - how many episodes in this show. (1 if movie).\n",
    "\n",
    "rating - average rating out of 10 for this anime.\n",
    "\n",
    "members - number of community members that are in this anime's \"group\".\n",
    "\n",
    "\n",
    "### Rating.csv\n",
    "\n",
    "user_id - non identifiable randomly generated user id.\n",
    "\n",
    "anime_id - the anime that this user has rated.\n",
    "\n",
    "rating - rating out of 10 this user has assigned (-1 if the user watched it but didn't assign a rating)."
   ]
  },
  {
   "cell_type": "markdown",
   "metadata": {},
   "source": [
    "### Import libraries and load the dataset"
   ]
  },
  {
   "cell_type": "code",
   "execution_count": 151,
   "metadata": {},
   "outputs": [],
   "source": [
    "import pandas as pd\n",
    "import numpy as np\n",
    "import math\n",
    "import re\n",
    "from scipy.sparse import csr_matrix\n",
    "import matplotlib.pyplot as plt\n",
    "import seaborn as sns\n",
    "import surprise\n",
    "from surprise import Reader, Dataset, SVD, evaluate\n",
    "sns.set_style(\"ticks\")"
   ]
  },
  {
   "cell_type": "code",
   "execution_count": 152,
   "metadata": {},
   "outputs": [
    {
     "data": {
      "text/html": [
       "<div>\n",
       "<style scoped>\n",
       "    .dataframe tbody tr th:only-of-type {\n",
       "        vertical-align: middle;\n",
       "    }\n",
       "\n",
       "    .dataframe tbody tr th {\n",
       "        vertical-align: top;\n",
       "    }\n",
       "\n",
       "    .dataframe thead th {\n",
       "        text-align: right;\n",
       "    }\n",
       "</style>\n",
       "<table border=\"1\" class=\"dataframe\">\n",
       "  <thead>\n",
       "    <tr style=\"text-align: right;\">\n",
       "      <th></th>\n",
       "      <th>user_id</th>\n",
       "      <th>anime_id</th>\n",
       "      <th>rating</th>\n",
       "    </tr>\n",
       "  </thead>\n",
       "  <tbody>\n",
       "    <tr>\n",
       "      <th>0</th>\n",
       "      <td>1</td>\n",
       "      <td>20</td>\n",
       "      <td>-1</td>\n",
       "    </tr>\n",
       "    <tr>\n",
       "      <th>1</th>\n",
       "      <td>1</td>\n",
       "      <td>24</td>\n",
       "      <td>-1</td>\n",
       "    </tr>\n",
       "    <tr>\n",
       "      <th>2</th>\n",
       "      <td>1</td>\n",
       "      <td>79</td>\n",
       "      <td>-1</td>\n",
       "    </tr>\n",
       "    <tr>\n",
       "      <th>3</th>\n",
       "      <td>1</td>\n",
       "      <td>226</td>\n",
       "      <td>-1</td>\n",
       "    </tr>\n",
       "    <tr>\n",
       "      <th>4</th>\n",
       "      <td>1</td>\n",
       "      <td>241</td>\n",
       "      <td>-1</td>\n",
       "    </tr>\n",
       "    <tr>\n",
       "      <th>5</th>\n",
       "      <td>1</td>\n",
       "      <td>355</td>\n",
       "      <td>-1</td>\n",
       "    </tr>\n",
       "    <tr>\n",
       "      <th>6</th>\n",
       "      <td>1</td>\n",
       "      <td>356</td>\n",
       "      <td>-1</td>\n",
       "    </tr>\n",
       "    <tr>\n",
       "      <th>7</th>\n",
       "      <td>1</td>\n",
       "      <td>442</td>\n",
       "      <td>-1</td>\n",
       "    </tr>\n",
       "    <tr>\n",
       "      <th>8</th>\n",
       "      <td>1</td>\n",
       "      <td>487</td>\n",
       "      <td>-1</td>\n",
       "    </tr>\n",
       "    <tr>\n",
       "      <th>9</th>\n",
       "      <td>1</td>\n",
       "      <td>846</td>\n",
       "      <td>-1</td>\n",
       "    </tr>\n",
       "  </tbody>\n",
       "</table>\n",
       "</div>"
      ],
      "text/plain": [
       "   user_id  anime_id  rating\n",
       "0        1        20      -1\n",
       "1        1        24      -1\n",
       "2        1        79      -1\n",
       "3        1       226      -1\n",
       "4        1       241      -1\n",
       "5        1       355      -1\n",
       "6        1       356      -1\n",
       "7        1       442      -1\n",
       "8        1       487      -1\n",
       "9        1       846      -1"
      ]
     },
     "execution_count": 152,
     "metadata": {},
     "output_type": "execute_result"
    }
   ],
   "source": [
    "ratings = pd.read_csv('rating.csv')\n",
    "ratings.head(10)\n"
   ]
  },
  {
   "cell_type": "code",
   "execution_count": 167,
   "metadata": {},
   "outputs": [
    {
     "name": "stdout",
     "output_type": "stream",
     "text": [
      "No of Nan values in our dataframe :  0\n"
     ]
    }
   ],
   "source": [
    "# checking for any null values\n",
    "print(\"No of Nan values in our dataframe : \", sum(ratings.isnull().any()))"
   ]
  },
  {
   "cell_type": "code",
   "execution_count": 170,
   "metadata": {},
   "outputs": [
    {
     "name": "stdout",
     "output_type": "stream",
     "text": [
      "Total data \n",
      "--------------------------------------------------\n",
      "\n",
      "Total no of ratings : 7813737\n",
      "Total No of Users   : 73515\n",
      "Total No of Anime  : 11200\n"
     ]
    }
   ],
   "source": [
    "print(\"Total data \")\n",
    "print(\"-\"*50)\n",
    "print(\"\\nTotal no of ratings :\",ratings.shape[0])\n",
    "print(\"Total No of Users   :\", len(np.unique(ratings.user_id)))\n",
    "print(\"Total No of Anime  :\", len(np.unique(ratings.anime_id)))"
   ]
  },
  {
   "cell_type": "markdown",
   "metadata": {},
   "source": [
    "### VISUALIZATION OF RATINGS"
   ]
  },
  {
   "cell_type": "code",
   "execution_count": 144,
   "metadata": {},
   "outputs": [
    {
     "data": {
      "image/png": "[encoded data removed]",
      "text/plain": [
       "<Figure size 1080x720 with 1 Axes>"
      ]
     },
     "metadata": {},
     "output_type": "display_data"
    }
   ],
   "source": [
    "\n",
    "p = ratings.groupby('rating')['rating'].agg(['count'])\n",
    "ax = p.plot(kind = 'barh', legend = True, figsize = (15,10))\n",
    "\n",
    "\n",
    "plt.title('Ratings given',fontsize=20)\n",
    "plt.axis('off')\n",
    "\n",
    "for i in range(1,12):\n",
    "    ax.text(p.iloc[i-1][0]/4, i-1, 'Rating {}: {:.0f}%'.format(i-1, p.iloc[i-1][0]*100 / p.sum()[0]), color = 'black', weight = 'bold')"
   ]
  },
  {
   "cell_type": "code",
   "execution_count": 153,
   "metadata": {},
   "outputs": [
    {
     "data": {
      "text/html": [
       "<div>\n",
       "<style scoped>\n",
       "    .dataframe tbody tr th:only-of-type {\n",
       "        vertical-align: middle;\n",
       "    }\n",
       "\n",
       "    .dataframe tbody tr th {\n",
       "        vertical-align: top;\n",
       "    }\n",
       "\n",
       "    .dataframe thead th {\n",
       "        text-align: right;\n",
       "    }\n",
       "</style>\n",
       "<table border=\"1\" class=\"dataframe\">\n",
       "  <thead>\n",
       "    <tr style=\"text-align: right;\">\n",
       "      <th></th>\n",
       "      <th>user_id</th>\n",
       "      <th>anime_id</th>\n",
       "      <th>rating</th>\n",
       "    </tr>\n",
       "  </thead>\n",
       "  <tbody>\n",
       "    <tr>\n",
       "      <th>0</th>\n",
       "      <td>1</td>\n",
       "      <td>20</td>\n",
       "      <td>-0.5</td>\n",
       "    </tr>\n",
       "    <tr>\n",
       "      <th>1</th>\n",
       "      <td>1</td>\n",
       "      <td>24</td>\n",
       "      <td>-0.5</td>\n",
       "    </tr>\n",
       "    <tr>\n",
       "      <th>2</th>\n",
       "      <td>1</td>\n",
       "      <td>79</td>\n",
       "      <td>-0.5</td>\n",
       "    </tr>\n",
       "    <tr>\n",
       "      <th>3</th>\n",
       "      <td>1</td>\n",
       "      <td>226</td>\n",
       "      <td>-0.5</td>\n",
       "    </tr>\n",
       "    <tr>\n",
       "      <th>4</th>\n",
       "      <td>1</td>\n",
       "      <td>241</td>\n",
       "      <td>-0.5</td>\n",
       "    </tr>\n",
       "  </tbody>\n",
       "</table>\n",
       "</div>"
      ],
      "text/plain": [
       "   user_id  anime_id  rating\n",
       "0        1        20    -0.5\n",
       "1        1        24    -0.5\n",
       "2        1        79    -0.5\n",
       "3        1       226    -0.5\n",
       "4        1       241    -0.5"
      ]
     },
     "execution_count": 153,
     "metadata": {},
     "output_type": "execute_result"
    }
   ],
   "source": [
    "#converting ratings from 1-5\n",
    "ratings['rating'] = (ratings['rating'])/2\n",
    "ratings.head()"
   ]
  },
  {
   "cell_type": "code",
   "execution_count": 173,
   "metadata": {},
   "outputs": [
    {
     "data": {
      "text/plain": [
       "count    7.813737e+06\n",
       "mean     3.072015e+00\n",
       "std      1.863900e+00\n",
       "min     -5.000000e-01\n",
       "25%      3.000000e+00\n",
       "50%      3.500000e+00\n",
       "75%      4.500000e+00\n",
       "max      5.000000e+00\n",
       "Name: rating, dtype: float64"
      ]
     },
     "execution_count": 173,
     "metadata": {},
     "output_type": "execute_result"
    }
   ],
   "source": [
    "ratings['rating'].describe()"
   ]
  },
  {
   "cell_type": "markdown",
   "metadata": {},
   "source": [
    "### SLICING THE DATASET"
   ]
  },
  {
   "cell_type": "code",
   "execution_count": 2,
   "metadata": {},
   "outputs": [],
   "source": [
    "#references: https://www.kaggle.com/laowingkin/netflix-movie-recommendation"
   ]
  },
  {
   "cell_type": "code",
   "execution_count": 154,
   "metadata": {},
   "outputs": [
    {
     "name": "stdout",
     "output_type": "stream",
     "text": [
      "Minimum times of reviews for anime: 634.0\n",
      "Minimum times of reviews for a customer: 164.0\n"
     ]
    }
   ],
   "source": [
    "\n",
    "f = ['count','mean']\n",
    "\n",
    "anime_summary = ratings.groupby('anime_id')['rating'].agg(f)\n",
    "anime_summary.index = anime_summary.index.map(int)\n",
    "anime_min = round(anime_summary['count'].quantile(0.8),0)\n",
    "drop_anime_list = anime_summary[anime_summary['count'] < anime_min].index\n",
    "\n",
    "print('Minimum times of reviews for anime: {}'.format(anime_min))\n",
    "\n",
    "df_cust_summary = ratings.groupby('user_id')['rating'].agg(f)\n",
    "df_cust_summary.index = df_cust_summary.index.map(int)\n",
    "cust_min = round(df_cust_summary['count'].quantile(0.8),0)\n",
    "drop_cust_list = df_cust_summary[df_cust_summary['count'] < cust_min].index\n",
    "\n",
    "\n",
    "print('Minimum times of reviews for a customer: {}'.format(cust_min))"
   ]
  },
  {
   "cell_type": "code",
   "execution_count": 155,
   "metadata": {},
   "outputs": [
    {
     "name": "stdout",
     "output_type": "stream",
     "text": [
      "Original Shape: (7813737, 3)\n",
      "After Trim Shape: (4821593, 3)\n",
      "-Data Examples-\n",
      "     user_id  anime_id  rating\n",
      "302        5         6     4.0\n",
      "303        5        15     3.0\n",
      "304        5        17     3.0\n",
      "305        5        18     3.0\n",
      "306        5        20     3.0\n"
     ]
    }
   ],
   "source": [
    "print('Original Shape: {}'.format(ratings.shape))\n",
    "df = ratings[~ratings['anime_id'].isin(drop_anime_list)]\n",
    "df = ratings[~ratings['user_id'].isin(drop_cust_list)]\n",
    "print('After Trim Shape: {}'.format(df.shape))\n",
    "print('-Data Examples-')\n",
    "print(df.head())"
   ]
  },
  {
   "cell_type": "markdown",
   "metadata": {},
   "source": [
    "### LOAD THE ANIME DATASET"
   ]
  },
  {
   "cell_type": "code",
   "execution_count": 183,
   "metadata": {},
   "outputs": [],
   "source": [
    "anime_data = pd.read_csv('anime.csv')"
   ]
  },
  {
   "cell_type": "code",
   "execution_count": 159,
   "metadata": {},
   "outputs": [
    {
     "data": {
      "text/html": [
       "<div>\n",
       "<style scoped>\n",
       "    .dataframe tbody tr th:only-of-type {\n",
       "        vertical-align: middle;\n",
       "    }\n",
       "\n",
       "    .dataframe tbody tr th {\n",
       "        vertical-align: top;\n",
       "    }\n",
       "\n",
       "    .dataframe thead th {\n",
       "        text-align: right;\n",
       "    }\n",
       "</style>\n",
       "<table border=\"1\" class=\"dataframe\">\n",
       "  <thead>\n",
       "    <tr style=\"text-align: right;\">\n",
       "      <th></th>\n",
       "      <th>anime_id</th>\n",
       "      <th>name</th>\n",
       "      <th>genre</th>\n",
       "      <th>type</th>\n",
       "      <th>episodes</th>\n",
       "      <th>rating</th>\n",
       "      <th>members</th>\n",
       "    </tr>\n",
       "  </thead>\n",
       "  <tbody>\n",
       "    <tr>\n",
       "      <th>0</th>\n",
       "      <td>32281</td>\n",
       "      <td>Kimi no Na wa.</td>\n",
       "      <td>Drama, Romance, School, Supernatural</td>\n",
       "      <td>Movie</td>\n",
       "      <td>1</td>\n",
       "      <td>9.37</td>\n",
       "      <td>200630</td>\n",
       "    </tr>\n",
       "    <tr>\n",
       "      <th>1</th>\n",
       "      <td>5114</td>\n",
       "      <td>Fullmetal Alchemist: Brotherhood</td>\n",
       "      <td>Action, Adventure, Drama, Fantasy, Magic, Mili...</td>\n",
       "      <td>TV</td>\n",
       "      <td>64</td>\n",
       "      <td>9.26</td>\n",
       "      <td>793665</td>\n",
       "    </tr>\n",
       "    <tr>\n",
       "      <th>2</th>\n",
       "      <td>28977</td>\n",
       "      <td>Gintama°</td>\n",
       "      <td>Action, Comedy, Historical, Parody, Samurai, S...</td>\n",
       "      <td>TV</td>\n",
       "      <td>51</td>\n",
       "      <td>9.25</td>\n",
       "      <td>114262</td>\n",
       "    </tr>\n",
       "    <tr>\n",
       "      <th>3</th>\n",
       "      <td>9253</td>\n",
       "      <td>Steins;Gate</td>\n",
       "      <td>Sci-Fi, Thriller</td>\n",
       "      <td>TV</td>\n",
       "      <td>24</td>\n",
       "      <td>9.17</td>\n",
       "      <td>673572</td>\n",
       "    </tr>\n",
       "    <tr>\n",
       "      <th>4</th>\n",
       "      <td>9969</td>\n",
       "      <td>Gintama&amp;#039;</td>\n",
       "      <td>Action, Comedy, Historical, Parody, Samurai, S...</td>\n",
       "      <td>TV</td>\n",
       "      <td>51</td>\n",
       "      <td>9.16</td>\n",
       "      <td>151266</td>\n",
       "    </tr>\n",
       "  </tbody>\n",
       "</table>\n",
       "</div>"
      ],
      "text/plain": [
       "   anime_id                              name  \\\n",
       "0     32281                    Kimi no Na wa.   \n",
       "1      5114  Fullmetal Alchemist: Brotherhood   \n",
       "2     28977                          Gintama°   \n",
       "3      9253                       Steins;Gate   \n",
       "4      9969                     Gintama&#039;   \n",
       "\n",
       "                                               genre   type episodes  rating  \\\n",
       "0               Drama, Romance, School, Supernatural  Movie        1    9.37   \n",
       "1  Action, Adventure, Drama, Fantasy, Magic, Mili...     TV       64    9.26   \n",
       "2  Action, Comedy, Historical, Parody, Samurai, S...     TV       51    9.25   \n",
       "3                                   Sci-Fi, Thriller     TV       24    9.17   \n",
       "4  Action, Comedy, Historical, Parody, Samurai, S...     TV       51    9.16   \n",
       "\n",
       "   members  \n",
       "0   200630  \n",
       "1   793665  \n",
       "2   114262  \n",
       "3   673572  \n",
       "4   151266  "
      ]
     },
     "execution_count": 159,
     "metadata": {},
     "output_type": "execute_result"
    }
   ],
   "source": [
    "anime_data.head()"
   ]
  },
  {
   "cell_type": "code",
   "execution_count": 161,
   "metadata": {},
   "outputs": [
    {
     "name": "stdout",
     "output_type": "stream",
     "text": [
      "                                                       name  \\\n",
      "anime_id                                                      \n",
      "32281                                        Kimi no Na wa.   \n",
      "5114                       Fullmetal Alchemist: Brotherhood   \n",
      "28977                                              Gintama°   \n",
      "9253                                            Steins;Gate   \n",
      "9969                                          Gintama&#039;   \n",
      "32935     Haikyuu!!: Karasuno Koukou VS Shiratorizawa Ga...   \n",
      "11061                                Hunter x Hunter (2011)   \n",
      "820                                    Ginga Eiyuu Densetsu   \n",
      "15335     Gintama Movie: Kanketsu-hen - Yorozuya yo Eien...   \n",
      "15417                              Gintama&#039;: Enchousen   \n",
      "\n",
      "                                                      genre   type episodes  \\\n",
      "anime_id                                                                      \n",
      "32281                  Drama, Romance, School, Supernatural  Movie        1   \n",
      "5114      Action, Adventure, Drama, Fantasy, Magic, Mili...     TV       64   \n",
      "28977     Action, Comedy, Historical, Parody, Samurai, S...     TV       51   \n",
      "9253                                       Sci-Fi, Thriller     TV       24   \n",
      "9969      Action, Comedy, Historical, Parody, Samurai, S...     TV       51   \n",
      "32935                Comedy, Drama, School, Shounen, Sports     TV       10   \n",
      "11061               Action, Adventure, Shounen, Super Power     TV      148   \n",
      "820                          Drama, Military, Sci-Fi, Space    OVA      110   \n",
      "15335     Action, Comedy, Historical, Parody, Samurai, S...  Movie        1   \n",
      "15417     Action, Comedy, Historical, Parody, Samurai, S...     TV       13   \n",
      "\n",
      "          rating  members  \n",
      "anime_id                   \n",
      "32281       9.37   200630  \n",
      "5114        9.26   793665  \n",
      "28977       9.25   114262  \n",
      "9253        9.17   673572  \n",
      "9969        9.16   151266  \n",
      "32935       9.15    93351  \n",
      "11061       9.13   425855  \n",
      "820         9.11    80679  \n",
      "15335       9.10    72534  \n",
      "15417       9.11    81109  \n"
     ]
    }
   ],
   "source": [
    "anime_data.set_index('anime_id', inplace = True)\n",
    "print (anime_data.head(10))"
   ]
  },
  {
   "cell_type": "markdown",
   "metadata": {},
   "source": [
    "### WHAT USER 226 HAS WATCHED AND LIKED BEFORE:"
   ]
  },
  {
   "cell_type": "code",
   "execution_count": 162,
   "metadata": {},
   "outputs": [
    {
     "name": "stdout",
     "output_type": "stream",
     "text": [
      "          user_id  rating                                               name\n",
      "anime_id                                                                    \n",
      "180           226     4.5                                           Vandread\n",
      "181           226     4.5                         Vandread: The Second Stage\n",
      "245           226     5.0                              Great Teacher Onizuka\n",
      "269           226     5.0                                             Bleach\n",
      "419           226     4.5                                Samurai Deeper Kyou\n",
      "857           226     4.5                                           Air Gear\n",
      "889           226     4.5                                       Black Lagoon\n",
      "1067          226     4.5                       Kishin Houkou Demonbane (TV)\n",
      "1127          226     4.5                              UFO Princess Valkyrie\n",
      "1195          226     4.5                                   Zero no Tsukaima\n",
      "1250          226     5.0                                    Erementar Gerad\n",
      "1482          226     4.5                                         D.Gray-man\n",
      "1519          226     4.5                   Black Lagoon: The Second Barrage\n",
      "1575          226     5.0                    Code Geass: Hangyaku no Lelouch\n",
      "1604          226     4.5                             Katekyo Hitman Reborn!\n",
      "1726          226     4.5                                      Devil May Cry\n",
      "1840          226     4.5               Zero no Tsukaima: Futatsuki no Kishi\n",
      "2002          226     5.0                                         Heroic Age\n",
      "2904          226     5.0                 Code Geass: Hangyaku no Lelouch R2\n",
      "2993          226     4.5                                 Rosario to Vampire\n",
      "3299          226     5.0                        H2O: Footprints in the Sand\n",
      "3455          226     4.5                                         To LOVE-Ru\n",
      "3503          226     4.5                                            Kanokon\n",
      "3594          226     4.5                                     Tears to Tiara\n",
      "3712          226     4.5              Zero no Tsukaima: Princesses no Rondo\n",
      "4186          226     5.0                              Chrome Shelled Regios\n",
      "4214          226     4.5                           Rosario to Vampire Capu2\n",
      "4901          226     4.5           Black Lagoon: Roberta&#039;s Blood Trail\n",
      "5041          226     5.0                                          Guin Saga\n",
      "5042          226     4.5                                         Kiss x Sis\n",
      "...           ...     ...                                                ...\n",
      "26243         226     4.5                                    Owari no Seraph\n",
      "26443         226     5.0                                           Triage X\n",
      "27631         226     4.5                                          God Eater\n",
      "27775         226     4.5                                   Plastic Memories\n",
      "27899         226     5.0                                     Tokyo Ghoul √A\n",
      "27991         226     4.5                                 K: Return of Kings\n",
      "28121         226     4.5  Dungeon ni Deai wo Motomeru no wa Machigatteir...\n",
      "28249         226     4.5                                  Arslan Senki (TV)\n",
      "28283         226     4.5                                      Sengoku Musou\n",
      "28537         226     4.5                               Garo: Guren no Tsuki\n",
      "28791         226     4.5                  Gunslinger Stratos: The Animation\n",
      "28927         226     4.5                 Owari no Seraph: Nagoya Kessen-hen\n",
      "28999         226     4.5                                          Charlotte\n",
      "29093         226     5.0              Grisaia no Meikyuu: Caprice no Mayu 0\n",
      "29095         226     5.0                                  Grisaia no Rakuen\n",
      "29101         226     4.5                        Grisaia no Kajitsu Specials\n",
      "29786         226     4.5  Shimoneta to Iu Gainen ga Sonzai Shinai Taikut...\n",
      "29803         226     4.5                                           Overlord\n",
      "29854         226     4.5                                 Ushio to Tora (TV)\n",
      "30123         226     5.0                          Akagami no Shirayuki-hime\n",
      "30250         226     4.5                        Triage X: Recollection XOXO\n",
      "30276         226     4.5                                      One Punch Man\n",
      "30296         226     4.5                           Rakudai Kishi no Cavalry\n",
      "30901         226     5.0                   Utawarerumono: Itsuwari no Kamen\n",
      "30911         226     4.5                            Tales of Zestiria the X\n",
      "31338         226     4.5                                            Hundred\n",
      "31716         226     5.0                                            Rewrite\n",
      "32094         226     4.5                Reikenzan: Hoshikuzu-tachi no Utage\n",
      "32313         226     4.5  Concrete Revolutio: Choujin Gensou - The Last ...\n",
      "32370         226     4.5                                  D.Gray-man Hallow\n",
      "\n",
      "[153 rows x 3 columns]\n"
     ]
    }
   ],
   "source": [
    "n = 226\n",
    "df_n = df[(df['user_id'] == n) & (df['rating'] >4)]\n",
    "df_n = df_n.set_index('anime_id')\n",
    "nm = anime_data['name']\n",
    "df_n = df_n.join(nm)\n",
    "print(df_n)"
   ]
  },
  {
   "cell_type": "markdown",
   "metadata": {},
   "source": [
    "### BUILD SVD MODEL USING TRAINSET"
   ]
  },
  {
   "cell_type": "code",
   "execution_count": 164,
   "metadata": {},
   "outputs": [
    {
     "name": "stderr",
     "output_type": "stream",
     "text": [
      "C:\\Users\\Asus PC\\Anaconda3\\lib\\site-packages\\surprise\\prediction_algorithms\\algo_base.py:51: UserWarning: train() is deprecated. Use fit() instead\n",
      "  warnings.warn('train() is deprecated. Use fit() instead', UserWarning)\n"
     ]
    }
   ],
   "source": [
    "reader = Reader()\n",
    "user_n = anime_data.copy()\n",
    "user_n = user_n.reset_index()\n",
    "user_n = user_n[~user_n['anime_id'].isin(drop_anime_list)]\n",
    "svd = SVD()\n",
    "# getting full dataset\n",
    "data = Dataset.load_from_df(df[['user_id', 'anime_id', 'rating']], reader)\n",
    "\n",
    "trainset = data.build_full_trainset()\n",
    "model = svd.train(trainset)\n"
   ]
  },
  {
   "cell_type": "markdown",
   "metadata": {},
   "source": [
    "### TOP 10 RECOMMENDATIONS FOR THE USER"
   ]
  },
  {
   "cell_type": "code",
   "execution_count": 165,
   "metadata": {},
   "outputs": [
    {
     "name": "stdout",
     "output_type": "stream",
     "text": [
      "       anime_id                                               name  \\\n",
      "2164       2847  Pokemon Diamond &amp; Pearl: Dialga vs. Palkia...   \n",
      "3617       1760                                           Golgo 13   \n",
      "4214      14093                      Pokemon Best Wishes! Season 2   \n",
      "4688      31144                                          Mottainai   \n",
      "11185      9311  Kateikyoushi no Oneesan 2 The Animation: H no ...   \n",
      "1103      32365  Boruto: Naruto the Movie - Naruto ga Hokage ni...   \n",
      "9418      16131            Machine Robo: Butchigiri Battle Hackers   \n",
      "3808      31980                       Okusama ga Seitokaichou! OVA   \n",
      "4208      32962                                      Occultic;Nine   \n",
      "749       22125           Kuroko no Basket: Mou Ikkai Yarimasen ka   \n",
      "\n",
      "                                                   genre     type episodes  \\\n",
      "2164     Action, Adventure, Comedy, Drama, Fantasy, Kids    Movie        1   \n",
      "3617          Action, Adventure, Drama, Military, Seinen    Movie        1   \n",
      "4214            Action, Adventure, Comedy, Fantasy, Kids       TV       24   \n",
      "4688                                       Slice of Life  Special        1   \n",
      "11185                                             Hentai      OVA        2   \n",
      "1103   Action, Comedy, Martial Arts, Shounen, Super P...  Special        1   \n",
      "9418                               Action, Mecha, Sci-Fi       TV       31   \n",
      "3808                     Comedy, Ecchi, Romance, Shounen      OVA        1   \n",
      "4208                                     Mystery, Sci-Fi       TV       12   \n",
      "749                      Comedy, School, Shounen, Sports  Special        1   \n",
      "\n",
      "       rating  members  Estimate_Score  \n",
      "2164     7.34    38238        4.623925  \n",
      "3617     6.93     6344        4.623925  \n",
      "4214     6.78    19603        4.623925  \n",
      "4688     6.66     2234        4.623925  \n",
      "11185    7.15     5091        4.623925  \n",
      "1103     7.68    16868        4.623925  \n",
      "9418     6.22      239        4.623925  \n",
      "3808     6.88    13602        4.623925  \n",
      "4208     6.78    82532        4.587527  \n",
      "749      7.86    20397        4.534112  \n"
     ]
    }
   ],
   "source": [
    "\n",
    "user_n['Estimate_Score'] = df['anime_id'].apply(lambda x: svd.predict(n, x).est)\n",
    "\n",
    "#user_n = user_n.drop('anime_id', axis = 1)\n",
    "\n",
    "user_n = user_n.sort_values('Estimate_Score', ascending=False)\n",
    "print(user_n.head(10))"
   ]
  },
  {
   "cell_type": "markdown",
   "metadata": {},
   "source": [
    "### USE TRAINSET AND TESTSET"
   ]
  },
  {
   "cell_type": "code",
   "execution_count": 174,
   "metadata": {},
   "outputs": [],
   "source": [
    "from surprise import SVD\n",
    "from surprise import Dataset\n",
    "from surprise import accuracy\n",
    "from surprise.model_selection import train_test_split\n",
    "\n",
    "\n",
    "# sample random trainset and testset\n",
    "# test set is made of 25% of the ratings.\n",
    "trainset, testset = train_test_split(data, test_size=.25)\n",
    "\n",
    "# We'll use the famous SVD algorithm.\n",
    "\n",
    "# Train the algorithm on the trainset, and predict ratings for the testset\n",
    "svd.fit(trainset)\n",
    "predictions = svd.test(testset)"
   ]
  },
  {
   "cell_type": "markdown",
   "metadata": {},
   "source": [
    "### EVALUATE RMSE AND MAE FOR SVD"
   ]
  },
  {
   "cell_type": "code",
   "execution_count": 176,
   "metadata": {},
   "outputs": [
    {
     "name": "stdout",
     "output_type": "stream",
     "text": [
      "RMSE: 1.0878\n",
      "1.0877919712104502\n",
      "MAE:  0.7794\n",
      "0.7794174683652741\n"
     ]
    }
   ],
   "source": [
    "print(accuracy.rmse(predictions))\n",
    "print(accuracy.mae(predictions))"
   ]
  },
  {
   "cell_type": "markdown",
   "metadata": {},
   "source": [
    "### TOP-10 RECOMMENDATIONS FOR ALL USERS USING SVD"
   ]
  },
  {
   "cell_type": "code",
   "execution_count": null,
   "metadata": {},
   "outputs": [],
   "source": [
    "from collections import defaultdict\n",
    "\n",
    "from surprise import SVD\n",
    "from surprise import Dataset\n",
    "\n",
    "def get_top_n(predictions, n=10):\n",
    "\n",
    "    # First map the predictions to each user.\n",
    "    top_n = defaultdict(list)\n",
    "    for uid, iid, true_r, est, _ in predictions:\n",
    "        top_n[uid].append((iid, est))\n",
    "\n",
    "    # Then sort the predictions for each user and retrieve the k highest ones.\n",
    "    for uid, user_ratings in top_n.items():\n",
    "        user_ratings.sort(key=lambda x: x[1], reverse=True)\n",
    "        top_n[uid] = user_ratings[:n]\n",
    "\n",
    "    return top_n\n",
    "\n",
    "top_n = get_top_n(predictions, n=10)\n",
    "\n",
    "# Print the recommended items for each user\n",
    "for uid, user_ratings in top_n.items():\n",
    "    print(uid, [iid for (iid, _) in user_ratings])"
   ]
  },
  {
   "cell_type": "markdown",
   "metadata": {},
   "source": [
    "### CALCULATE PRECISION AND RECALL"
   ]
  },
  {
   "cell_type": "code",
   "execution_count": 1,
   "metadata": {},
   "outputs": [],
   "source": [
    "#references: https://surprise.readthedocs.io/en/stable/FAQ.html"
   ]
  },
  {
   "cell_type": "code",
   "execution_count": 32,
   "metadata": {},
   "outputs": [
    {
     "name": "stdout",
     "output_type": "stream",
     "text": [
      "Precision: 0.8991305230394231\n",
      "Recall: 0.16636605881617858\n"
     ]
    }
   ],
   "source": [
    "from collections import defaultdict\n",
    "from surprise import Dataset\n",
    "from surprise import SVD\n",
    "from surprise.model_selection import KFold\n",
    "\n",
    "kf = KFold(n_splits=5)\n",
    "\n",
    "def precision_recall_at_k(predictions, k=10, threshold=3.5):\n",
    "    #Return precision and recall at k metrics for each user.\n",
    "    # First map the predictions to each user.\n",
    "    user_est_true = defaultdict(list)\n",
    "    for uid, _, true_r, est, _ in predictions:\n",
    "        user_est_true[uid].append((est, true_r))\n",
    "\n",
    "    precisions = dict()\n",
    "    recalls = dict()\n",
    "    for uid, user_ratings in user_est_true.items():\n",
    "\n",
    "        # Sort user ratings by estimated value\n",
    "        user_ratings.sort(key=lambda x: x[0], reverse=True)\n",
    "\n",
    "        # Number of relevant items\n",
    "        n_rel = sum((true_r >= threshold) for (_, true_r) in user_ratings)\n",
    "\n",
    "        # Number of recommended items in top k\n",
    "        n_rec_k = sum((est >= threshold) for (est, _) in user_ratings[:k])\n",
    "\n",
    "        # Number of relevant and recommended items in top k\n",
    "        n_rel_and_rec_k = sum(((true_r >= threshold) and (est >= threshold))\n",
    "                              for (est, true_r) in user_ratings[:k])\n",
    "\n",
    "        # Precision@K: Proportion of recommended items that are relevant\n",
    "        precisions[uid] = n_rel_and_rec_k / n_rec_k if n_rec_k != 0 else 1\n",
    "\n",
    "        # Recall@K: Proportion of relevant items that are recommended\n",
    "        recalls[uid] = n_rel_and_rec_k / n_rel if n_rel != 0 else 1\n",
    "    return precisions, recalls\n",
    "\n",
    "\n",
    "for trainset, testset in kf.split(data):\n",
    "    precisions, recalls = precision_recall_at_k(predictions, k=5, threshold=4)\n",
    "\n",
    "    # Precision and recall can then be averaged over all users\n",
    "print(\"Precision:\", sum(prec for prec in precisions.values()) / len(precisions))\n",
    "print(\"Recall:\", sum(rec for rec in recalls.values()) / len(recalls))"
   ]
  },
  {
   "cell_type": "markdown",
   "metadata": {},
   "source": [
    "### k- NEAREST NEIGHBOR ITEM BASED"
   ]
  },
  {
   "cell_type": "code",
   "execution_count": 177,
   "metadata": {},
   "outputs": [
    {
     "name": "stdout",
     "output_type": "stream",
     "text": [
      "Computing the pearson similarity matrix...\n",
      "Done computing similarity matrix.\n"
     ]
    }
   ],
   "source": [
    "import io \n",
    "\n",
    "from surprise import KNNBasic\n",
    "from surprise import Dataset\n",
    "from surprise import get_dataset_dir\n",
    "\n",
    "\n",
    "sim_options = {'name': 'pearson', 'user_based': False}\n",
    "knn = KNNBasic(sim_options=sim_options)\n",
    "knn.fit(trainset)\n",
    "predictions = knn.test(testset)\n"
   ]
  },
  {
   "cell_type": "code",
   "execution_count": 178,
   "metadata": {},
   "outputs": [
    {
     "name": "stdout",
     "output_type": "stream",
     "text": [
      "RMSE: 1.1845\n",
      "1.1844714497331137\n",
      "MAE:  0.8833\n",
      "0.8832844551653122\n"
     ]
    }
   ],
   "source": [
    "print(accuracy.rmse(predictions))\n",
    "print(accuracy.mae(predictions))"
   ]
  },
  {
   "cell_type": "markdown",
   "metadata": {},
   "source": [
    "### TOP-10 RECOMMENDATIONS"
   ]
  },
  {
   "cell_type": "code",
   "execution_count": 185,
   "metadata": {},
   "outputs": [
    {
     "name": "stdout",
     "output_type": "stream",
     "text": [
      "\n",
      "The 10 nearest neighbors of Kimi no Na Wa are:\n",
      "Code Geass: Hangyaku no Lelouch\n",
      "Shokugeki no Souma\n",
      "Ookami to Koushinryou II\n",
      "Major S3\n",
      "Natsume Yuujinchou: Itsuka Yuki no Hi ni\n",
      "NHK ni Youkoso!\n",
      "Shelter\n",
      "InuYasha: Kanketsu-hen\n",
      "One Piece Film: Gold\n"
     ]
    }
   ],
   "source": [
    "from surprise import Dataset\n",
    "from surprise import get_dataset_dir\n",
    "\n",
    "neighbors = knn.get_neighbors(0, k=10)\n",
    "print()\n",
    "print('The 10 nearest neighbors of Kimi no Na Wa are:')\n",
    "\n",
    "\n",
    "for i in neighbors:\n",
    "    for j in anime_data['anime_id']:\n",
    "        if j== i:\n",
    "            print(anime_data['name'][j])\n"
   ]
  },
  {
   "cell_type": "code",
   "execution_count": 194,
   "metadata": {},
   "outputs": [
    {
     "name": "stdout",
     "output_type": "stream",
     "text": [
      "Precision: 0.9527133899773845\n",
      "Recall: 0.13032166885177313\n"
     ]
    }
   ],
   "source": [
    "for trainset, testset in kf.split(data):\n",
    "    precisions, recalls = precision_recall_at_k(predictions, k=10, threshold=4)\n",
    "\n",
    "    # Precision and recall can then be averaged over all users\n",
    "print(\"Precision:\", sum(prec for prec in precisions.values()) / len(precisions))\n",
    "print(\"Recall:\", sum(rec for rec in recalls.values()) / len(recalls))"
   ]
  },
  {
   "cell_type": "markdown",
   "metadata": {},
   "source": [
    "### k-NN BASELINE USING STOCHASTIC GRADIENT DESCENT "
   ]
  },
  {
   "cell_type": "code",
   "execution_count": 187,
   "metadata": {},
   "outputs": [
    {
     "name": "stdout",
     "output_type": "stream",
     "text": [
      "Estimating biases using sgd...\n",
      "Computing the pearson_baseline similarity matrix...\n",
      "Done computing similarity matrix.\n"
     ]
    }
   ],
   "source": [
    "import io \n",
    "\n",
    "from surprise import KNNBaseline\n",
    "from surprise import Dataset\n",
    "from surprise import get_dataset_dir\n",
    "\n",
    "\n",
    "sim_options = {'name': 'pearson_baseline', 'user_based': False}\n",
    "bsl_options = {'method': 'sgd',\n",
    "               'learning_rate': .005,\n",
    "               }\n",
    "knn_b = KNNBaseline(bsl_options=bsl_options, sim_options=sim_options)\n",
    "knn_b.fit(trainset)\n",
    "predictions_b = knn_b.test(testset)\n"
   ]
  },
  {
   "cell_type": "code",
   "execution_count": 188,
   "metadata": {},
   "outputs": [
    {
     "name": "stdout",
     "output_type": "stream",
     "text": [
      "RMSE: 1.0803\n",
      "1.0802914817857145\n",
      "MAE:  0.7690\n",
      "0.7690469968304519\n"
     ]
    }
   ],
   "source": [
    "print(accuracy.rmse(predictions_b))\n",
    "print(accuracy.mae(predictions_b))"
   ]
  },
  {
   "cell_type": "markdown",
   "metadata": {},
   "source": [
    "### TOP-10 RECOMMENDATIONS"
   ]
  },
  {
   "cell_type": "code",
   "execution_count": 190,
   "metadata": {},
   "outputs": [
    {
     "name": "stdout",
     "output_type": "stream",
     "text": [
      "\n",
      "The 10 nearest neighbors of Kimi no Na Wa are:\n",
      "JoJo no Kimyou na Bouken: Stardust Crusaders\n",
      "Aoki Hagane no Arpeggio: Ars Nova DC\n",
      "Kara no Kyoukai 5: Mujun Rasen\n",
      "Bleach Movie 1: Memories of Nobody\n",
      "Detective Conan OVA 01: Conan vs. Kid vs. Yaiba\n",
      "Durarara!!x2 Shou: Watashi no Kokoro wa Nabe Moyou\n",
      "Sword Art Online: Extra Edition\n",
      "Huyao Xiao Hongniang: Yue Hong\n",
      "Slam Dunk\n"
     ]
    }
   ],
   "source": [
    "neighbors_b = knn_b.get_neighbors(0, k=10)\n",
    "print()\n",
    "print('The 10 nearest neighbors of Kimi no Na Wa are:')\n",
    "\n",
    "\n",
    "for i in neighbors_b:\n",
    "    for j in anime_data['anime_id']:\n",
    "        if j== i:\n",
    "            print(anime_data['name'][j])"
   ]
  },
  {
   "cell_type": "code",
   "execution_count": 195,
   "metadata": {},
   "outputs": [
    {
     "name": "stdout",
     "output_type": "stream",
     "text": [
      "Precision: 0.932154859372506\n",
      "Recall: 0.1539874206096337\n"
     ]
    }
   ],
   "source": [
    "for trainset, testset in kf.split(data):\n",
    "    precisions, recalls = precision_recall_at_k(predictions_b, k=5, threshold=4)\n",
    "\n",
    "    # Precision and recall can then be averaged over all users\n",
    "print(\"Precision:\", sum(prec for prec in precisions.values()) / len(precisions))\n",
    "print(\"Recall:\", sum(rec for rec in recalls.values()) / len(recalls))"
   ]
  },
  {
   "cell_type": "code",
   "execution_count": null,
   "metadata": {},
   "outputs": [],
   "source": []
  }
 ],
 "metadata": {
  "kernelspec": {
   "display_name": "Python 3",
   "language": "python",
   "name": "python3"
  },
  "language_info": {
   "codemirror_mode": {
    "name": "ipython",
    "version": 3
   },
   "file_extension": ".py",
   "mimetype": "text/x-python",
   "name": "python",
   "nbconvert_exporter": "python",
   "pygments_lexer": "ipython3",
   "version": "3.6.5"
  }
 },
 "nbformat": 4,
 "nbformat_minor": 2
}
